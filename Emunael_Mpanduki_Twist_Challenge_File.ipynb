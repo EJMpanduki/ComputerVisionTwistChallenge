{
  "nbformat": 4,
  "nbformat_minor": 0,
  "metadata": {
    "colab": {
      "name": "Emunael Mpanduki Twist Challenge File",
      "provenance": [],
      "collapsed_sections": [],
      "authorship_tag": "ABX9TyOgcKDcP30k9OAiZHb/mBIJ",
      "include_colab_link": true
    },
    "kernelspec": {
      "name": "python3",
      "display_name": "Python 3"
    }
  },
  "cells": [
    {
      "cell_type": "markdown",
      "metadata": {
        "id": "view-in-github",
        "colab_type": "text"
      },
      "source": [
        "<a href=\"https://colab.research.google.com/github/EJMpanduki/ComputerVisionTwistChallenge/blob/main/Emunael_Mpanduki_Twist_Challenge_File.ipynb\" target=\"_parent\"><img src=\"https://colab.research.google.com/assets/colab-badge.svg\" alt=\"Open In Colab\"/></a>"
      ]
    },
    {
      "cell_type": "code",
      "metadata": {
        "id": "Gk9-cyFa1WYg",
        "outputId": "da04129c-15fb-4d7e-f4ee-5df7d5310b5d",
        "colab": {
          "base_uri": "https://localhost:8080/",
          "height": 34
        }
      },
      "source": [
        "from google.colab import drive\n",
        "drive.mount('/content/drive', force_remount = True)"
      ],
      "execution_count": 2,
      "outputs": [
        {
          "output_type": "stream",
          "text": [
            "Mounted at /content/drive\n"
          ],
          "name": "stdout"
        }
      ]
    },
    {
      "cell_type": "markdown",
      "metadata": {
        "id": "BC6lZhT11zlJ"
      },
      "source": [
        "Import All the necessary packages to solve problem"
      ]
    },
    {
      "cell_type": "code",
      "metadata": {
        "id": "f9RnjA9n1nxq"
      },
      "source": [
        "from google.colab.patches import cv2_imshow\n",
        "from IPython.display import clear_output, Image\n",
        "import cv2\n",
        "import numpy as np\n",
        "import matplotlib.pyplot as plt\n",
        "import time\n",
        "from torchvision.datasets import ImageFolder\n",
        "import os\n",
        "import scipy\n",
        "from scipy import stats\n",
        "import pandas as pd\n",
        "from PIL import Image, ImageFilter\n",
        "import tensorflow as tf"
      ],
      "execution_count": 3,
      "outputs": []
    },
    {
      "cell_type": "markdown",
      "metadata": {
        "id": "vT09smeP2N_y"
      },
      "source": [
        "Set up classification algorithm"
      ]
    },
    {
      "cell_type": "markdown",
      "metadata": {
        "id": "XHfExdep7r9z"
      },
      "source": [
        "Define the model\n"
      ]
    },
    {
      "cell_type": "code",
      "metadata": {
        "id": "T3n5XtJJ6nIC",
        "outputId": "41de94a2-fc10-42e1-86d9-ab9d8a93271d",
        "colab": {
          "base_uri": "https://localhost:8080/",
          "height": 34
        }
      },
      "source": [
        "#For our model, we need the number of classes (5) and shape of the images\n",
        "num_classes = 5\n",
        "input_shape = (192, 192, 3)\n"
      ],
      "execution_count": 5,
      "outputs": [
        {
          "output_type": "stream",
          "text": [
            "5 (192, 192, 3)\n"
          ],
          "name": "stdout"
        }
      ]
    },
    {
      "cell_type": "code",
      "metadata": {
        "id": "0uci1koQ7ya8",
        "outputId": "f7639b45-394a-424c-d794-e52ff84cf903",
        "colab": {
          "base_uri": "https://localhost:8080/",
          "height": 50
        }
      },
      "source": [
        "# This is simply an alias for convenience\n",
        "layers = tf.keras.layers\n",
        "\n",
        "'''INPUT:\n",
        "      num_classes = len(np.unique(target)) (number of classes in the target)\n",
        "      input_shape = x_train.shape[1:] (the shape of our dataset excluding the first dimension corresponding to the number of images)\n",
        "  OUTPUT: \n",
        "      the model\n",
        "  CALL: \n",
        "      model = build_pretrained_vgg_model(num_classes, input_shape) \n",
        "      model.compile(optimizer=tf.train.AdamOptimizer(learning_rate=0.005), \n",
        "              loss='sparse_categorical_crossentropy',\n",
        "              metrics=['accuracy']) '''\n",
        "\n",
        "def build_pretrained_vgg_model(num_classes, input_shape): \n",
        "  \"\"\"Constructs a CNN with a VGG16's convolutional base and two fully-connected hidden layers on top. The convolutional base is frozen (the weights can't be updated) and has weights from training on the ImageNet dataset.\n",
        "  Returns:\n",
        "    The model.\n",
        "  \"\"\"\n",
        "  # This loads the VGG16 model from TensorFlow with ImageNet weights\n",
        "  vgg_model = tf.keras.applications.VGG16(include_top=False, weights='imagenet', input_shape=input_shape)\n",
        " \n",
        "  # First we flatten out the features from the VGG16 model\n",
        "  net = layers.Flatten()(vgg_model.output)\n",
        " \n",
        "  # We create a new fully-connected layer that takes the flattened features as its input\n",
        "  net = layers.Dense(512, activation=tf.nn.relu)(net)\n",
        "  # And we add one more hidden layer\n",
        "  net = layers.Dense(512, activation=tf.nn.relu)(net)\n",
        " \n",
        "  # Then we add a final layer which is connected to the previous layer and\n",
        "  # groups our images into one of the five classes\n",
        "  output = layers.Dense(num_classes, activation=tf.nn.softmax)(net)\n",
        " \n",
        "  # Finally, we create a new model whose input is that of the VGG16 model and whose output\n",
        "  # is the final new layer we just created\n",
        "  model = tf.keras.Model(inputs=vgg_model.input, outputs=output)\n",
        " \n",
        "  # We loop through all layers except the last four and specify that we do not want \n",
        "  # their weights to be updated during training. The weights of the convolutional\n",
        "  # layers have already been trained for general-purpose feature extraction, and we only\n",
        "  # want to update the fully-connected layers that we just added.\n",
        "  for layer in model.layers[:-4]:\n",
        "      layer.trainable = False\n",
        " \n",
        "  return model\n",
        "\n",
        "#We define our model with the above function\n",
        "model = build_pretrained_vgg_model(num_classes, input_shape) \n",
        "\n",
        "#We compile our model. It is now ready for training. A learning rate of 0.005 was also tested, yielding every time worse results.\n",
        "model.compile(optimizer=tf.optimizers.Adam(learning_rate=0.001), \n",
        "              loss='sparse_categorical_crossentropy',\n",
        "              metrics=['accuracy'])"
      ],
      "execution_count": 6,
      "outputs": [
        {
          "output_type": "stream",
          "text": [
            "Downloading data from https://storage.googleapis.com/tensorflow/keras-applications/vgg16/vgg16_weights_tf_dim_ordering_tf_kernels_notop.h5\n",
            "58892288/58889256 [==============================] - 1s 0us/step\n"
          ],
          "name": "stdout"
        }
      ]
    },
    {
      "cell_type": "code",
      "metadata": {
        "id": "Y3JLtj-U7-L_"
      },
      "source": [
        "# This is the directory where model weights are saved. \n",
        "CHECKPOINT_DIR = '/content/drive/My Drive/Colab Notebooks/Module 2/'\n"
      ],
      "execution_count": 7,
      "outputs": []
    },
    {
      "cell_type": "code",
      "metadata": {
        "id": "ubjbfx_x8kze"
      },
      "source": [
        "#We choose the epoch when the validation loss is lowest and accuracy highest\n",
        "EARLY_STOPPING_EPOCH = 3\n",
        "\n",
        "assert EARLY_STOPPING_EPOCH > 0, 'Set an early stopping point!'\n",
        "\n",
        "# Path the the checkpoint we want to load\n",
        "es_ckpt_path = os.path.join(CHECKPOINT_DIR, 'Newweights.epoch.{:02d}'.format(EARLY_STOPPING_EPOCH))\n",
        "\n",
        "#We define our model with the above function\n",
        "model = build_pretrained_vgg_model(num_classes, input_shape)\n",
        "\n",
        "# Then we load the weights from the desired checkpoint into the model\n",
        "model.load_weights(es_ckpt_path);"
      ],
      "execution_count": 8,
      "outputs": []
    },
    {
      "cell_type": "markdown",
      "metadata": {
        "id": "yS7tMtm581Hw"
      },
      "source": [
        "This script will show you how to read frames from a video, resize it and sample sub-images"
      ]
    },
    {
      "cell_type": "code",
      "metadata": {
        "id": "8Ca2yQkt8nCy"
      },
      "source": [
        "def sample_image(img, x, y, win_size, cnn_size):\n",
        "  h, w, = img.shape\n",
        "\n",
        "  delta = int(win_size/2)\n",
        "\n",
        "  x0 = x - delta \n",
        "  x1 = x + delta\n",
        "  y0 = y - delta\n",
        "  y1 = y + delta\n",
        "\n",
        "  if y0 < 0:\n",
        "      y0 = int(0)\n",
        "      y1 = int(win_size * 2)\n",
        "  \n",
        "  if y1 > h:\n",
        "      y0 = int(h - win_size * 2)\n",
        "      y1 = int(h)\n",
        "  \n",
        "  if x0 < 0:\n",
        "      x0 = int(0)\n",
        "      x1 = int(win_size * 2)\n",
        "  \n",
        "  if x1 > w:\n",
        "      x0 = int(w - win_size * 2)\n",
        "      x1 = int(w)\n",
        "\n",
        "  img_sample = img[y0:y1, x0:x1]\n",
        "\n",
        "  #Creating the empty array where the data will be stored\n",
        "  all_im = np.empty((0,192,192,3))\n",
        "  \n",
        "  #Creating the empty array where the prediction output will be stored\n",
        "  pred = np.empty((0))\n",
        "\n",
        "  # convert to CNN format\n",
        "  #resize\n",
        "  img_resize = cv2.resize(img_sample, (cnn_size, cnn_size), interpolation=cv2.INTER_LINEAR)\n",
        "\n",
        "  # NORMALIZING\n",
        "  img_norm_res = (img_resize - 127.5) / 127.5\n",
        "\n",
        "  #ADAPT SHAPE\n",
        "\n",
        "  if img_norm_res.ndim == 3:\n",
        "    #Verify if all three channels are the same\n",
        "    chan_1 = img_norm_res[:,:,0]\n",
        "    chan_2 = img_norm_res[:,:,1]\n",
        "    chan_3 = img_norm_res[:,:,2]\n",
        "\n",
        "    diff = chan_1 - chan_2\n",
        "    diff1 = chan_2 - chan_3\n",
        "\n",
        "    assert np.nonzero(diff) != None, 'Channels have different values'\n",
        "    assert np.nonzero(diff1) != None, 'Channels have different values'\n",
        "\n",
        "    img_norm_res_3D = img_norm_res\n",
        "\n",
        "  elif img_norm_res.ndim == 2:\n",
        "    #In the expanded dataset, the images only have 2 dimensions\n",
        "\n",
        "    # ADD A CHANNEL DIMENSION\n",
        "    img_norm_res_3D = np.expand_dims(img_norm_res, axis=2)\n",
        "\n",
        "    #Some models require that its input image have three channels\n",
        "    #ADD TWO MORE CHANNELS WITH THE SAME VALUES AS THE FIRST\n",
        "    img_norm_res_3D = np.repeat(img_norm_res_3D, 3, axis=2)\n",
        "\n",
        "  #ADD IMAGE TO ARRAY\n",
        "  all_im = np.concatenate((all_im,img_norm_res_3D[np.newaxis,:,:,:]),axis=0)\n",
        "\n",
        "  pred = np.append(pred, 'Sample')\n",
        "\n",
        "  return all_im, pred\n"
      ],
      "execution_count": 9,
      "outputs": []
    },
    {
      "cell_type": "markdown",
      "metadata": {
        "id": "8BUomY9IAX3N"
      },
      "source": [
        "Making Predictions"
      ]
    },
    {
      "cell_type": "code",
      "metadata": {
        "id": "DeaKE7XYJkW-"
      },
      "source": [
        "\n",
        "#declare the video path\n",
        "vid_path = \"/content/drive/Shared drives/DSI Shared Folder/Module 2/Twist Data/bin_1.mp4\"\n",
        "\n",
        "#path to export images\n",
        "export_path = \"/content/drive/My Drive/Colab Notebooks/Module 2/\"\n",
        "\n",
        "cap = cv2.VideoCapture(vid_path)\n",
        "\n",
        "N_frames = int(cap.get(cv2.CAP_PROP_FRAME_COUNT))\n",
        "\n",
        "sample_window_size = 150\n",
        "cnn_img_size = 192\n",
        "composition_df = pd.DataFrame( columns = ['chip', 'pellet', 'fine','lump','mixed'])\n",
        "\n",
        "tic = time.process_time()\n",
        "\n",
        "#creating frame samples because full sample will take too long\n",
        "start_frame = 0 \n",
        "end_frame = 150\n",
        "\n",
        "# for frame_num in range(1\"\"\"N_frames\"\"\"):\n",
        "for frame_num in range(end_frame):\n",
        "    if frame_num < start_frame: #pass and go to next frame\n",
        "        pass\n",
        "    else:\n",
        "      has_img, img = cap.read() # Blue, Green, Red Numpy Array uint8\n",
        "\n",
        "      if has_img:\n",
        "          # Images in your trainging set were monochrome\n",
        "          img_mono = cv2.cvtColor(img, cv2.COLOR_BGR2GRAY)\n",
        "\n",
        "          # Grab a sample from the image. X=0, Y=0 is the top left corner. X and Y indicates the center of the sample.\n",
        "\n",
        "          #create a sample array (center, top left, top right, bottom left, bottom right)\n",
        "          x_array = [300, 175, 400, 425, 150]\n",
        "          y_array = [240, 175, 175, 300, 325]\n",
        "          sample_array = np.empty((0,192,192,3))\n",
        "          for i in range(len(x_array)):\n",
        "            sample, rect = sample_image(img_mono, int(x_array[i]), int(y_array[i]), sample_window_size, cnn_img_size)\n",
        "            sample_array = np.concatenate((sample_array,sample),axis=0)\n",
        "  #         cv2.imshow('test',sample) \n",
        "  #         cv2.waitKey(100)\n",
        "\n",
        "          # TODO: CLASSIFER CODE HERE\n",
        "          preds =  model.predict(sample_array)\n",
        "          composition = np.mean(preds, axis = 0)*100\n",
        "          X = np.reshape(composition,(1, composition.size))\n",
        "          composition_df =composition_df.append(pd.DataFrame(X, columns= composition_df.columns), ignore_index=True)\n",
        "          # TODO: DECIDE IF NOFITICATION FRAME SHOUD BE SAVED\n",
        "\n",
        "      frames_to_export = [24, 102, 138]\n",
        "      if frame_num in frames_to_export:\n",
        "        cv2.imwrite(export_path + 'bin_1_frame_num_' + str(frame_num) +\".jpeg\", img_mono)\n",
        "\n",
        "\n",
        "\n",
        "\n",
        "          # TODO: BUILD ARRAY FOR MATERIAL COMPOSITION GRAPH\n",
        "\n",
        "          # COLAB\n",
        "          # - - - - - - - - - - - - \n",
        "          # clear_output(wait=True)\n",
        "          # cv2_imshow(sample) \n",
        "          # cv2.waitKey(1000) & 0xff\n",
        "          # # - - - - - - - - - - - - \n",
        "\n",
        "          # Local\n",
        "          # - - - - - - - - - - - - \n",
        "          # cv2.imshow('test',img_mono) \n",
        "          # cv2.waitKey(1000)\n",
        "  #         cv2.destroyAllWindows()\n",
        "          # - - - - - - - - - - - -  \n",
        "\n"
      ],
      "execution_count": 53,
      "outputs": []
    },
    {
      "cell_type": "code",
      "metadata": {
        "id": "83BsktUBibNz",
        "outputId": "c9d776c9-533e-4406-93af-9596a2200e0f",
        "colab": {
          "base_uri": "https://localhost:8080/",
          "height": 34
        }
      },
      "source": [
        "dt = time.process_time() - tic\n",
        "print(dt/end_frame) # Samples per frame should be below 150 ms"
      ],
      "execution_count": 57,
      "outputs": [
        {
          "output_type": "stream",
          "text": [
            "3.6641620172999985\n"
          ],
          "name": "stdout"
        }
      ]
    },
    {
      "cell_type": "code",
      "metadata": {
        "id": "z_lf6JaIi3Re",
        "outputId": "1560cce8-693c-4a74-8d73-fb2a1327a80e",
        "colab": {
          "base_uri": "https://localhost:8080/",
          "height": 402
        }
      },
      "source": [
        "composition_df"
      ],
      "execution_count": 55,
      "outputs": [
        {
          "output_type": "execute_result",
          "data": {
            "text/html": [
              "<div>\n",
              "<style scoped>\n",
              "    .dataframe tbody tr th:only-of-type {\n",
              "        vertical-align: middle;\n",
              "    }\n",
              "\n",
              "    .dataframe tbody tr th {\n",
              "        vertical-align: top;\n",
              "    }\n",
              "\n",
              "    .dataframe thead th {\n",
              "        text-align: right;\n",
              "    }\n",
              "</style>\n",
              "<table border=\"1\" class=\"dataframe\">\n",
              "  <thead>\n",
              "    <tr style=\"text-align: right;\">\n",
              "      <th></th>\n",
              "      <th>chip</th>\n",
              "      <th>pellet</th>\n",
              "      <th>fine</th>\n",
              "      <th>lump</th>\n",
              "      <th>mixed</th>\n",
              "    </tr>\n",
              "  </thead>\n",
              "  <tbody>\n",
              "    <tr>\n",
              "      <th>0</th>\n",
              "      <td>0.000019</td>\n",
              "      <td>62.398994</td>\n",
              "      <td>36.051960</td>\n",
              "      <td>0.000249</td>\n",
              "      <td>1.548765</td>\n",
              "    </tr>\n",
              "    <tr>\n",
              "      <th>1</th>\n",
              "      <td>0.000017</td>\n",
              "      <td>67.543755</td>\n",
              "      <td>30.955734</td>\n",
              "      <td>0.000208</td>\n",
              "      <td>1.500296</td>\n",
              "    </tr>\n",
              "    <tr>\n",
              "      <th>2</th>\n",
              "      <td>0.000019</td>\n",
              "      <td>68.654381</td>\n",
              "      <td>29.974953</td>\n",
              "      <td>0.000209</td>\n",
              "      <td>1.370440</td>\n",
              "    </tr>\n",
              "    <tr>\n",
              "      <th>3</th>\n",
              "      <td>0.000017</td>\n",
              "      <td>59.773212</td>\n",
              "      <td>39.841476</td>\n",
              "      <td>0.000146</td>\n",
              "      <td>0.385146</td>\n",
              "    </tr>\n",
              "    <tr>\n",
              "      <th>4</th>\n",
              "      <td>0.000016</td>\n",
              "      <td>60.063507</td>\n",
              "      <td>39.521534</td>\n",
              "      <td>0.000147</td>\n",
              "      <td>0.414795</td>\n",
              "    </tr>\n",
              "    <tr>\n",
              "      <th>...</th>\n",
              "      <td>...</td>\n",
              "      <td>...</td>\n",
              "      <td>...</td>\n",
              "      <td>...</td>\n",
              "      <td>...</td>\n",
              "    </tr>\n",
              "    <tr>\n",
              "      <th>145</th>\n",
              "      <td>0.000006</td>\n",
              "      <td>42.612247</td>\n",
              "      <td>57.194771</td>\n",
              "      <td>0.000289</td>\n",
              "      <td>0.192689</td>\n",
              "    </tr>\n",
              "    <tr>\n",
              "      <th>146</th>\n",
              "      <td>0.000008</td>\n",
              "      <td>43.660259</td>\n",
              "      <td>56.105839</td>\n",
              "      <td>0.000326</td>\n",
              "      <td>0.233566</td>\n",
              "    </tr>\n",
              "    <tr>\n",
              "      <th>147</th>\n",
              "      <td>0.000008</td>\n",
              "      <td>43.795578</td>\n",
              "      <td>55.992039</td>\n",
              "      <td>0.000328</td>\n",
              "      <td>0.212050</td>\n",
              "    </tr>\n",
              "    <tr>\n",
              "      <th>148</th>\n",
              "      <td>0.000008</td>\n",
              "      <td>43.827938</td>\n",
              "      <td>55.928940</td>\n",
              "      <td>0.000326</td>\n",
              "      <td>0.242785</td>\n",
              "    </tr>\n",
              "    <tr>\n",
              "      <th>149</th>\n",
              "      <td>0.000007</td>\n",
              "      <td>44.102009</td>\n",
              "      <td>55.731361</td>\n",
              "      <td>0.000308</td>\n",
              "      <td>0.166321</td>\n",
              "    </tr>\n",
              "  </tbody>\n",
              "</table>\n",
              "<p>150 rows × 5 columns</p>\n",
              "</div>"
            ],
            "text/plain": [
              "         chip     pellet       fine      lump     mixed\n",
              "0    0.000019  62.398994  36.051960  0.000249  1.548765\n",
              "1    0.000017  67.543755  30.955734  0.000208  1.500296\n",
              "2    0.000019  68.654381  29.974953  0.000209  1.370440\n",
              "3    0.000017  59.773212  39.841476  0.000146  0.385146\n",
              "4    0.000016  60.063507  39.521534  0.000147  0.414795\n",
              "..        ...        ...        ...       ...       ...\n",
              "145  0.000006  42.612247  57.194771  0.000289  0.192689\n",
              "146  0.000008  43.660259  56.105839  0.000326  0.233566\n",
              "147  0.000008  43.795578  55.992039  0.000328  0.212050\n",
              "148  0.000008  43.827938  55.928940  0.000326  0.242785\n",
              "149  0.000007  44.102009  55.731361  0.000308  0.166321\n",
              "\n",
              "[150 rows x 5 columns]"
            ]
          },
          "metadata": {
            "tags": []
          },
          "execution_count": 55
        }
      ]
    },
    {
      "cell_type": "code",
      "metadata": {
        "id": "LgdgGXzSi6i-",
        "outputId": "577c6c1d-49c1-42f9-98d8-ff1c7ae9d8d6",
        "colab": {
          "base_uri": "https://localhost:8080/",
          "height": 342
        }
      },
      "source": [
        "#Create Plots and Export\n",
        "\n",
        "xticks = list(range(start_frame,end_frame,3))\n",
        "def plot_bin_composition(pred_df):\n",
        "  ax = pred_df.plot.area( figsize=(20, 5), xticks=xticks)\n",
        "  ax.set_xlabel(\"Frame\")\n",
        "  ax.set_ylabel(\"Composition [%]\")\n",
        "  ax.set_xticklabels(xticks, rotation=30)\n",
        "  ax.legend(bbox_to_anchor=(1.05, 1), loc='upper left', borderaxespad=0.)\n",
        "\n",
        "plot_bin_composition(composition_df)\n",
        "\n",
        "\n",
        "plt.savefig(f\"{export_path}/bin_1_composition.png\")"
      ],
      "execution_count": 56,
      "outputs": [
        {
          "output_type": "display_data",
          "data": {
            "image/png": "[encoded data removed]",
            "text/plain": [
              "<Figure size 1440x360 with 1 Axes>"
            ]
          },
          "metadata": {
            "tags": [],
            "needs_background": "light"
          }
        }
      ]
    },
    {
      "cell_type": "code",
      "metadata": {
        "id": "QlwcYFvxlL0P"
      },
      "source": [
        ""
      ],
      "execution_count": null,
      "outputs": []
    }
  ]
}